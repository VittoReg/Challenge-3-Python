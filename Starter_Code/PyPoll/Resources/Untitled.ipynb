{
 "cells": [
  {
   "cell_type": "code",
   "execution_count": 1,
   "id": "c25ccf97",
   "metadata": {},
   "outputs": [],
   "source": [
    "# Import Dependencies\n",
    "import os\n",
    "import pandas as pd\n",
    "from pathlib import Path"
   ]
  },
  {
   "cell_type": "code",
   "execution_count": 2,
   "id": "d16f9af9",
   "metadata": {},
   "outputs": [],
   "source": [
    "# Store filepaths into variable\n",
    "election_data = Path(\"Resources/election_data.csv\")"
   ]
  },
  {
   "cell_type": "code",
   "execution_count": 3,
   "id": "284187da",
   "metadata": {},
   "outputs": [
    {
     "data": {
      "text/html": [
       "<div>\n",
       "<style scoped>\n",
       "    .dataframe tbody tr th:only-of-type {\n",
       "        vertical-align: middle;\n",
       "    }\n",
       "\n",
       "    .dataframe tbody tr th {\n",
       "        vertical-align: top;\n",
       "    }\n",
       "\n",
       "    .dataframe thead th {\n",
       "        text-align: right;\n",
       "    }\n",
       "</style>\n",
       "<table border=\"1\" class=\"dataframe\">\n",
       "  <thead>\n",
       "    <tr style=\"text-align: right;\">\n",
       "      <th></th>\n",
       "      <th>Ballot ID</th>\n",
       "      <th>County</th>\n",
       "      <th>Candidate</th>\n",
       "    </tr>\n",
       "  </thead>\n",
       "  <tbody>\n",
       "    <tr>\n",
       "      <th>0</th>\n",
       "      <td>1323913</td>\n",
       "      <td>Jefferson</td>\n",
       "      <td>Charles Casper Stockham</td>\n",
       "    </tr>\n",
       "    <tr>\n",
       "      <th>1</th>\n",
       "      <td>1005842</td>\n",
       "      <td>Jefferson</td>\n",
       "      <td>Charles Casper Stockham</td>\n",
       "    </tr>\n",
       "    <tr>\n",
       "      <th>2</th>\n",
       "      <td>1880345</td>\n",
       "      <td>Jefferson</td>\n",
       "      <td>Charles Casper Stockham</td>\n",
       "    </tr>\n",
       "    <tr>\n",
       "      <th>3</th>\n",
       "      <td>1600337</td>\n",
       "      <td>Jefferson</td>\n",
       "      <td>Charles Casper Stockham</td>\n",
       "    </tr>\n",
       "    <tr>\n",
       "      <th>4</th>\n",
       "      <td>1835994</td>\n",
       "      <td>Jefferson</td>\n",
       "      <td>Charles Casper Stockham</td>\n",
       "    </tr>\n",
       "    <tr>\n",
       "      <th>...</th>\n",
       "      <td>...</td>\n",
       "      <td>...</td>\n",
       "      <td>...</td>\n",
       "    </tr>\n",
       "    <tr>\n",
       "      <th>369706</th>\n",
       "      <td>4714953</td>\n",
       "      <td>Arapahoe</td>\n",
       "      <td>Raymon Anthony Doane</td>\n",
       "    </tr>\n",
       "    <tr>\n",
       "      <th>369707</th>\n",
       "      <td>4497542</td>\n",
       "      <td>Arapahoe</td>\n",
       "      <td>Raymon Anthony Doane</td>\n",
       "    </tr>\n",
       "    <tr>\n",
       "      <th>369708</th>\n",
       "      <td>4085849</td>\n",
       "      <td>Arapahoe</td>\n",
       "      <td>Raymon Anthony Doane</td>\n",
       "    </tr>\n",
       "    <tr>\n",
       "      <th>369709</th>\n",
       "      <td>4592018</td>\n",
       "      <td>Arapahoe</td>\n",
       "      <td>Raymon Anthony Doane</td>\n",
       "    </tr>\n",
       "    <tr>\n",
       "      <th>369710</th>\n",
       "      <td>4660518</td>\n",
       "      <td>Arapahoe</td>\n",
       "      <td>Raymon Anthony Doane</td>\n",
       "    </tr>\n",
       "  </tbody>\n",
       "</table>\n",
       "<p>369711 rows × 3 columns</p>\n",
       "</div>"
      ],
      "text/plain": [
       "        Ballot ID     County                Candidate\n",
       "0         1323913  Jefferson  Charles Casper Stockham\n",
       "1         1005842  Jefferson  Charles Casper Stockham\n",
       "2         1880345  Jefferson  Charles Casper Stockham\n",
       "3         1600337  Jefferson  Charles Casper Stockham\n",
       "4         1835994  Jefferson  Charles Casper Stockham\n",
       "...           ...        ...                      ...\n",
       "369706    4714953   Arapahoe     Raymon Anthony Doane\n",
       "369707    4497542   Arapahoe     Raymon Anthony Doane\n",
       "369708    4085849   Arapahoe     Raymon Anthony Doane\n",
       "369709    4592018   Arapahoe     Raymon Anthony Doane\n",
       "369710    4660518   Arapahoe     Raymon Anthony Doane\n",
       "\n",
       "[369711 rows x 3 columns]"
      ]
     },
     "execution_count": 3,
     "metadata": {},
     "output_type": "execute_result"
    }
   ],
   "source": [
    "election_data_df = pd.read_csv(\"election_data.csv\")\n",
    "election_data_df"
   ]
  },
  {
   "cell_type": "code",
   "execution_count": 18,
   "id": "35f7d69b",
   "metadata": {},
   "outputs": [],
   "source": [
    "num_rows = election_data_df.shape[0]\n",
    "ccs_count = election_data_df[\"Candidate\"].value_counts()[\"Charles Casper Stockham\"]\n",
    "dg_count = election_data_df[\"Candidate\"].value_counts()[\"Diana DeGette\"]\n",
    "rad_count = election_data_df[\"Candidate\"].value_counts()[\"Raymon Anthony Doane\"]\n",
    "\n",
    "ccspercent = (ccs_count)/(num_rows)*(100)\n",
    "dgpercent = (dg_count)/(num_rows)*(100)\n",
    "radpercent = (rad_count)/(num_rows)*(100)\n",
    "\n",
    "ccspercent = f\"{ccspercent:.3f}\"\n",
    "dgpercent = f'{dgpercent:.3f}'\n",
    "radpercent = f'{radpercent:.3f}'"
   ]
  },
  {
   "cell_type": "code",
   "execution_count": 21,
   "id": "bb6be78c",
   "metadata": {},
   "outputs": [
    {
     "name": "stdout",
     "output_type": "stream",
     "text": [
      "Election results\n",
      "--------------------------------------\n",
      "Total Votes: 369711\n",
      "Charles Casper Stockham: 23.049% (85213)\n",
      "Diana DeGette: 73.812% (272892)\n",
      "Raymond Anthony Doane: 3.139% (11606)\n",
      "--------------------------------------\n",
      "Winner: Diana DeGette\n"
     ]
    }
   ],
   "source": [
    "print(\"Election results\")\n",
    "print(\"--------------------------------------\")\n",
    "print(f\"Total Votes: {num_rows}\")\n",
    "print(f\"Charles Casper Stockham: {ccspercent}% ({ccs_count})\")\n",
    "print(f\"Diana DeGette: {dgpercent}% ({dg_count})\")\n",
    "print(f\"Raymond Anthony Doane: {radpercent}% ({rad_count})\")\n",
    "print(\"--------------------------------------\")\n",
    "print(\"Winner: Diana DeGette\")"
   ]
  },
  {
   "cell_type": "code",
   "execution_count": 28,
   "id": "010bfffe",
   "metadata": {},
   "outputs": [
    {
     "name": "stdout",
     "output_type": "stream",
     "text": [
      "Election analysis has been saved in \"election_results.txt\" \n"
     ]
    }
   ],
   "source": [
    "txtfile = \"election_results.txt\"\n",
    "with open(txtfile, \"w\") as file:\n",
    "    file.write('Election Results\\n')\n",
    "    file.write('-----------------\\n')\n",
    "    file.write(f'The total number of votes is: {num_rows}\\n')\n",
    "    file.write('-----------------\\n')\n",
    "    file.write(f\"Charles Casper Stockham: {ccspercent}% ({ccs_count})\\n\")\n",
    "    file.write(f\"Diana DeGette: {dgpercent}% ({dg_count})\\n\")\n",
    "    file.write(f\"Raymond Anthony Doane: {radpercent}% ({rad_count})\\n\")\n",
    "    file.write('-----------------\\n')\n",
    "    file.write(\"Winner: Diana DeGette\")\n",
    "    \n",
    "print(\"\"\"Election analysis has been saved in \"election_results.txt\" \"\"\")"
   ]
  },
  {
   "cell_type": "code",
   "execution_count": null,
   "id": "4b1b2f09",
   "metadata": {},
   "outputs": [],
   "source": []
  }
 ],
 "metadata": {
  "kernelspec": {
   "display_name": "Python 3 (ipykernel)",
   "language": "python",
   "name": "python3"
  },
  "language_info": {
   "codemirror_mode": {
    "name": "ipython",
    "version": 3
   },
   "file_extension": ".py",
   "mimetype": "text/x-python",
   "name": "python",
   "nbconvert_exporter": "python",
   "pygments_lexer": "ipython3",
   "version": "3.11.5"
  }
 },
 "nbformat": 4,
 "nbformat_minor": 5
}
